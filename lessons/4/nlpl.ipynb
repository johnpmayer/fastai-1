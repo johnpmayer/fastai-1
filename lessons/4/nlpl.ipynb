{
 "cells": [
  {
   "attachments": {},
   "cell_type": "markdown",
   "metadata": {},
   "source": [
    "Note - this lesson is going to use a slightly-lower-level library (still reasonably high-level)"
   ]
  },
  {
   "attachments": {},
   "cell_type": "markdown",
   "metadata": {},
   "source": [
    "# History\n",
    "\n",
    "ULMFiT: Take a corpus and build a language model - e.g. try to predict the next word of every wikipedia article\n",
    "\n",
    "This lanugage model needs to understand quite a bit to acheive that\n",
    "\n",
    "Started with random weights, and able to predict >30% of the time the next word in a wikipedia article.\n",
    "\n",
    "Super interesting - we take one of these models, and run a few more epochs on movie reviews, and then a few more epochs for movie review sentiment.\n",
    "\n",
    "Language models don't require any labels - super interesting! Just need the corpus. This was done with RNNs.\n",
    "\n",
    "Transformers released around this time. They can use hardware pretty well. NOT for predicting next word in a sentence. Instead - take chunks, delete word at random, and ask it to predict the deleted word.\n",
    "\n",
    "Today we'll do transformers - NOT RNNs."
   ]
  },
  {
   "attachments": {},
   "cell_type": "markdown",
   "metadata": {},
   "source": [
    "## Fine Tuning\n",
    "\n",
    "We take the initial model, which has a shitload of embedded useful activations\n",
    "\n",
    "Then we throw away the last layer (which was doing whatever) and replace it with a random layer for the classifier (or whatever) that we're trying to build\n",
    "\n",
    "And we train some epochs."
   ]
  },
  {
   "cell_type": "code",
   "execution_count": 8,
   "metadata": {},
   "outputs": [],
   "source": [
    "from pathlib import Path\n",
    "import kaggle,zipfile"
   ]
  },
  {
   "cell_type": "code",
   "execution_count": 9,
   "metadata": {},
   "outputs": [],
   "source": [
    "path = Path('us-patent-phrase-to-phrase-matching')"
   ]
  },
  {
   "attachments": {},
   "cell_type": "markdown",
   "metadata": {},
   "source": [
    "Note - I had to\n",
    "\n",
    "1. Create the kaggle account\n",
    "1. Verify my phone number\n",
    "1. Accept the rules of the US patent competition\n",
    "\n",
    "Before doing the above, I was getting 403 permission denied trying to download the dataset below"
   ]
  },
  {
   "cell_type": "code",
   "execution_count": 14,
   "metadata": {},
   "outputs": [
    {
     "name": "stdout",
     "output_type": "stream",
     "text": [
      "Already have it!\n"
     ]
    }
   ],
   "source": [
    "if not path.exists():\n",
    "    print(\"Gonna download it\")\n",
    "    kaggle.api.competition_download_cli(str(path))\n",
    "    print(\"Extracting\")\n",
    "    zipfile.ZipFile(f'{path}.zip').extractall(path)\n",
    "    print(\"Done!\")\n",
    "else:\n",
    "    print(\"Already have it!\")"
   ]
  },
  {
   "cell_type": "code",
   "execution_count": 15,
   "metadata": {},
   "outputs": [
    {
     "name": "stdout",
     "output_type": "stream",
     "text": [
      "sample_submission.csv  test.csv  train.csv\n"
     ]
    }
   ],
   "source": [
    "!ls {path}"
   ]
  },
  {
   "cell_type": "code",
   "execution_count": 16,
   "metadata": {},
   "outputs": [],
   "source": [
    "import pandas as pd"
   ]
  }
 ],
 "metadata": {
  "kernelspec": {
   "display_name": "fastai-cuda-11.8",
   "language": "python",
   "name": "python3"
  },
  "language_info": {
   "codemirror_mode": {
    "name": "ipython",
    "version": 3
   },
   "file_extension": ".py",
   "mimetype": "text/x-python",
   "name": "python",
   "nbconvert_exporter": "python",
   "pygments_lexer": "ipython3",
   "version": "3.10.4"
  },
  "orig_nbformat": 4
 },
 "nbformat": 4,
 "nbformat_minor": 2
}
